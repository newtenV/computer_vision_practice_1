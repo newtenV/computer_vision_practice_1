{
 "cells": [
  {
   "cell_type": "code",
   "execution_count": 9,
   "id": "initial_id",
   "metadata": {
    "collapsed": true,
    "ExecuteTime": {
     "end_time": "2024-04-25T10:28:17.824843Z",
     "start_time": "2024-04-25T10:28:13.886816900Z"
    }
   },
   "outputs": [
    {
     "name": "stdout",
     "output_type": "stream",
     "text": [
      "stitched_image_size: (3024, 4032)\n",
      "resized_image2_size: (252, 189)\n"
     ]
    }
   ],
   "source": [
    "import cv2\n",
    "import numpy as np\n",
    "\n",
    "def image_stitching(image1, image2):\n",
    "    # 转换图像为灰度图\n",
    "    gray1 = cv2.cvtColor(image1, cv2.COLOR_BGR2GRAY)\n",
    "    gray2 = cv2.cvtColor(image2, cv2.COLOR_BGR2GRAY)\n",
    "\n",
    "    # 构建图像金字塔\n",
    "    dog = cv2.createBackgroundSubtractorMOG2()\n",
    "    pyramid1 = [gray1]\n",
    "    pyramid2 = [gray2]\n",
    "    for _ in range(4):\n",
    "        gray1 = cv2.pyrDown(gray1)\n",
    "        gray2 = cv2.pyrDown(gray2)\n",
    "        pyramid1.append(gray1)\n",
    "        pyramid2.append(gray2)\n",
    "\n",
    "    # 初始化SIFT检测器\n",
    "    sift = cv2.SIFT_create()\n",
    "\n",
    "    # 寻找关键点和描述符\n",
    "    keypoints1, descriptors1 = sift.detectAndCompute(pyramid1[-1], None)\n",
    "    keypoints2, descriptors2 = sift.detectAndCompute(pyramid2[-1], None)\n",
    "\n",
    "    # 匹配关键点\n",
    "    bf = cv2.BFMatcher()\n",
    "    matches = bf.knnMatch(descriptors1, descriptors2, k=2)\n",
    "\n",
    "    # 应用比率测试以消除错误匹配\n",
    "    good_matches = []\n",
    "    for m, n in matches:\n",
    "        if m.distance < 0.75 * n.distance:\n",
    "            good_matches.append(m)\n",
    "\n",
    "    # 提取匹配的关键点的坐标\n",
    "    points1 = np.float32([keypoints1[m.queryIdx].pt for m in good_matches]).reshape(-1, 1, 2)\n",
    "    points2 = np.float32([keypoints2[m.trainIdx].pt for m in good_matches]).reshape(-1, 1, 2)\n",
    "\n",
    "    # 使用RANSAC算法估计图像间的单应性矩阵\n",
    "    H, _ = cv2.findHomography(points1, points2, cv2.RANSAC)\n",
    "\n",
    "    # 调整图像大小以匹配拼接后的图像\n",
    "    height, width = pyramid1[0].shape\n",
    "    stitched_image_size = (width, height)\n",
    "    resized_image2 = cv2.resize(pyramid2[-1], stitched_image_size)\n",
    "\n",
    "    # 将第二张图像变换到第一张图像的视角\n",
    "    stitched_image = cv2.warpPerspective(resized_image2, H, stitched_image_size)\n",
    "    \n",
    "\n",
    "    # 将第一张图像与变换后的第二张图像叠加\n",
    "    stitched_image[:height, :width] = resized_image2\n",
    "\n",
    "    return stitched_image\n",
    "\n",
    "# 读取两张图像\n",
    "image1 = cv2.imread('images/1_1.JPG')\n",
    "image2 = cv2.imread('images/1_2.JPG')\n",
    "\n",
    "# 调用图像拼接函数\n",
    "result_image = image_stitching(image1, image2)\n",
    "\n",
    "# 显示结果\n",
    "cv2.imshow('Stitched Image', result_image)\n",
    "cv2.imwrite('results/DOG.jpg',result_image)\n",
    "cv2.waitKey(0)\n",
    "cv2.destroyAllWindows()\n"
   ]
  }
 ],
 "metadata": {
  "kernelspec": {
   "display_name": "Python 3",
   "language": "python",
   "name": "python3"
  },
  "language_info": {
   "codemirror_mode": {
    "name": "ipython",
    "version": 2
   },
   "file_extension": ".py",
   "mimetype": "text/x-python",
   "name": "python",
   "nbconvert_exporter": "python",
   "pygments_lexer": "ipython2",
   "version": "2.7.6"
  }
 },
 "nbformat": 4,
 "nbformat_minor": 5
}
