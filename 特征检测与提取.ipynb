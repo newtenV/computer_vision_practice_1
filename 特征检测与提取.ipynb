{
 "cells": [
  {
   "cell_type": "code",
   "execution_count": 3,
   "id": "initial_id",
   "metadata": {
    "collapsed": true,
    "ExecuteTime": {
     "end_time": "2024-04-25T10:04:18.998719500Z",
     "start_time": "2024-04-25T10:04:09.534338800Z"
    }
   },
   "outputs": [],
   "source": [
    "import cv2\n",
    "\n",
    "# 读取输入图像\n",
    "image = cv2.imread('images/1_1.JPG')\n",
    "\n",
    "# 创建SIFT对象\n",
    "sift = cv2.SIFT_create()\n",
    "\n",
    "# 在图像中检测关键点和计算描述符\n",
    "keypoints, descriptors = sift.detectAndCompute(image, None)\n",
    "\n",
    "# 绘制关键点\n",
    "image_with_keypoints = cv2.drawKeypoints(image, keypoints, None)\n",
    "\n",
    "# 显示带有关键点的图像\n",
    "cv2.imshow('Image with Keypoints', image_with_keypoints)\n",
    "cv2.imwrite('results/kps.jpg',image_with_keypoints)\n",
    "cv2.waitKey(0)\n",
    "cv2.destroyAllWindows()"
   ]
  }
 ],
 "metadata": {
  "kernelspec": {
   "display_name": "Python 3",
   "language": "python",
   "name": "python3"
  },
  "language_info": {
   "codemirror_mode": {
    "name": "ipython",
    "version": 2
   },
   "file_extension": ".py",
   "mimetype": "text/x-python",
   "name": "python",
   "nbconvert_exporter": "python",
   "pygments_lexer": "ipython2",
   "version": "2.7.6"
  }
 },
 "nbformat": 4,
 "nbformat_minor": 5
}
