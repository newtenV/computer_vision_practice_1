{
 "cells": [
  {
   "cell_type": "code",
   "execution_count": 63,
   "outputs": [],
   "source": [
    "#双三插值\n",
    "import cv2\n",
    "\n",
    "def bicubic_interpolation(image, scale_factor):\n",
    "    # 获取原始图像的尺寸\n",
    "    image=np.array(image)\n",
    "    height, width = image.shape[:2]\n",
    "\n",
    "    # 计算插值后的图像尺寸\n",
    "    new_height = int(height * scale_factor)\n",
    "    new_width = int(width * scale_factor)\n",
    "\n",
    "    # 使用 OpenCV 的 resize 函数进行双三次插值\n",
    "    interpolated_image = cv2.resize(image, (new_width, new_height), interpolation=cv2.INTER_CUBIC)\n",
    "\n",
    "    return interpolated_image"
   ],
   "metadata": {
    "collapsed": false,
    "ExecuteTime": {
     "end_time": "2024-05-10T07:56:00.224366800Z",
     "start_time": "2024-05-10T07:56:00.219636600Z"
    }
   },
   "id": "ee91b02c9659929"
  },
  {
   "cell_type": "code",
   "execution_count": 64,
   "outputs": [],
   "source": [
    "def getQualityValues(upsampled, orig):\n",
    "    psnr = cv2.PSNR(upsampled, orig)\n",
    "    q, _ = cv2.quality.QualitySSIM_compute(upsampled, orig)\n",
    "    ssim = (q[0] + q[1] + q[2]) / 3\n",
    "    return round(psnr, 3), round(ssim, 3)"
   ],
   "metadata": {
    "collapsed": false,
    "ExecuteTime": {
     "end_time": "2024-05-10T07:56:00.251265200Z",
     "start_time": "2024-05-10T07:56:00.226862300Z"
    }
   },
   "id": "c54a52e459d53e73"
  },
  {
   "cell_type": "code",
   "execution_count": 65,
   "outputs": [
    {
     "name": "stdout",
     "output_type": "stream",
     "text": [
      "SSIM: 0.9788694426134575\n",
      "PSNR: 37.00883792010775\n",
      "SSIM: 0.9898941541371236\n",
      "PSNR: 37.290863654003054\n",
      "SSIM: 0.9426638907673431\n",
      "PSNR: 32.13296058332589\n",
      "SSIM: 0.9256025874419236\n",
      "PSNR: 32.98603311383363\n",
      "SSIM: 0.9744379414597002\n",
      "PSNR: 34.80920653722176\n"
     ]
    }
   ],
   "source": [
    "from PIL import Image\n",
    "import os\n",
    "import numpy as np\n",
    "from skimage.metrics import structural_similarity as ssim\n",
    "\n",
    "\n",
    "src_dir='images/Set5'\n",
    "downsample_dir = 'images/downsample'\n",
    "results_dir = 'images/results'\n",
    "for filename in os.listdir(src_dir):\n",
    "    image_path = os.path.join(src_dir, filename)\n",
    "    downsample_path = os.path.join(downsample_dir, filename)\n",
    "    results_path = os.path.join(results_dir, filename)\n",
    "    src_image = cv2.imread(image_path)\n",
    "    scale_factor = 2  # 下采样为原来大小的一半\n",
    "    downsampled_image = cv2.resize(src_image, None, fx=1.0 / scale_factor, fy=1.0 / scale_factor)\n",
    "    result=bicubic_interpolation(downsampled_image, scale_factor)\n",
    "    \n",
    "    # cv2.imshow(\"downsampled_image\",downsampled_image)\n",
    "    # cv2.imshow(\"result\",result)\n",
    "    # cv2.waitKey(0)\n",
    "    # cv2.destroyAllWindows()\n",
    "    \n",
    "    cv2.imwrite(downsample_path,downsampled_image)\n",
    "    cv2.imwrite(results_path,result)\n",
    "\n",
    "    src_image=np.array(src_image)\n",
    "    SSIM = ssim(src_image, result,win_size=3)\n",
    "\n",
    "    mse = np.mean((src_image - result) ** 2)\n",
    "    PSNR = 20 * np.log10(255.0 / np.sqrt(mse))\n",
    "\n",
    "    print(\"SSIM:\", SSIM)\n",
    "    print(\"PSNR:\", PSNR)\n"
   ],
   "metadata": {
    "collapsed": false,
    "ExecuteTime": {
     "end_time": "2024-05-10T07:56:00.518628400Z",
     "start_time": "2024-05-10T07:56:00.244330700Z"
    }
   },
   "id": "98d96a23e58799d5"
  },
  {
   "cell_type": "code",
   "execution_count": 65,
   "outputs": [],
   "source": [],
   "metadata": {
    "collapsed": false,
    "ExecuteTime": {
     "end_time": "2024-05-10T07:56:00.562615200Z",
     "start_time": "2024-05-10T07:56:00.518628400Z"
    }
   },
   "id": "f7de71ec2259dfc1"
  }
 ],
 "metadata": {
  "kernelspec": {
   "display_name": "Python 3",
   "language": "python",
   "name": "python3"
  },
  "language_info": {
   "codemirror_mode": {
    "name": "ipython",
    "version": 2
   },
   "file_extension": ".py",
   "mimetype": "text/x-python",
   "name": "python",
   "nbconvert_exporter": "python",
   "pygments_lexer": "ipython2",
   "version": "2.7.6"
  }
 },
 "nbformat": 4,
 "nbformat_minor": 5
}
