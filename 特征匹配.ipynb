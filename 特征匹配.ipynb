{
 "cells": [
  {
   "cell_type": "code",
   "execution_count": 2,
   "id": "initial_id",
   "metadata": {
    "collapsed": true,
    "ExecuteTime": {
     "end_time": "2024-04-24T18:47:31.150175Z",
     "start_time": "2024-04-24T18:47:25.224944800Z"
    }
   },
   "outputs": [],
   "source": [
    "import cv2\n",
    "\n",
    "# 读取输入图像\n",
    "image1 = cv2.imread('images/1.jpg')\n",
    "image2 = cv2.imread('images/2.jpg')\n",
    "\n",
    "# 创建SIFT对象\n",
    "sift = cv2.SIFT_create()\n",
    "\n",
    "# 在图像中检测关键点和计算描述符\n",
    "keypoints1, descriptors1 = sift.detectAndCompute(image1, None)\n",
    "keypoints2, descriptors2 = sift.detectAndCompute(image2, None)\n",
    "\n",
    "# 创建BFMatcher对象\n",
    "bf = cv2.BFMatcher()\n",
    "\n",
    "# 使用KNN算法进行特征匹配\n",
    "matches = bf.knnMatch(descriptors1, descriptors2, k=2)\n",
    "\n",
    "# 应用比率测试以保留良好的匹配\n",
    "good_matches = []\n",
    "for m, n in matches:\n",
    "    if m.distance < 0.75 * n.distance:\n",
    "        good_matches.append(m)\n",
    "\n",
    "# 绘制匹配的特征点\n",
    "matched_image = cv2.drawMatches(image1, keypoints1, image2, keypoints2, good_matches, None, flags=cv2.DrawMatchesFlags_NOT_DRAW_SINGLE_POINTS)\n",
    "\n",
    "# 显示匹配结果\n",
    "cv2.imshow('Feature Matches', matched_image)\n",
    "cv2.waitKey(0)\n",
    "cv2.destroyAllWindows()"
   ]
  }
 ],
 "metadata": {
  "kernelspec": {
   "display_name": "Python 3",
   "language": "python",
   "name": "python3"
  },
  "language_info": {
   "codemirror_mode": {
    "name": "ipython",
    "version": 2
   },
   "file_extension": ".py",
   "mimetype": "text/x-python",
   "name": "python",
   "nbconvert_exporter": "python",
   "pygments_lexer": "ipython2",
   "version": "2.7.6"
  }
 },
 "nbformat": 4,
 "nbformat_minor": 5
}
